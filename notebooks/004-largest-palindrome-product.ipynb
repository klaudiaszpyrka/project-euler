{
 "cells": [
  {
   "cell_type": "markdown",
   "id": "0eba11be",
   "metadata": {},
   "source": [
    "https://www.hackerrank.com/contests/projecteuler/challenges/euler004/problem\n",
    "\n",
    "or\n",
    "\n",
    "https://projecteuler.net/problem=4"
   ]
  },
  {
   "cell_type": "code",
   "execution_count": 47,
   "id": "01e3bac9",
   "metadata": {},
   "outputs": [],
   "source": [
    "import time"
   ]
  },
  {
   "cell_type": "markdown",
   "id": "114a8098",
   "metadata": {},
   "source": [
    "Version 1: `int` converted to `str`"
   ]
  },
  {
   "cell_type": "code",
   "execution_count": 48,
   "id": "94c946b5",
   "metadata": {},
   "outputs": [],
   "source": [
    "def find_largest_palindrome(n):\n",
    "    result = -1\n",
    "    i_res = -1\n",
    "    j_res = -1\n",
    "    \n",
    "    for i in range(999, 100, -1):  # 999 to 101 (we can omit 100 as there cannot be a palindrome ending with 0)\n",
    "        for j in range(i, 100, -1):\n",
    "            ij = i*j\n",
    "            if ij < result:\n",
    "                break\n",
    "            if ij > result and ij < n and str(ij) == str(ij)[::-1]:\n",
    "                result = ij\n",
    "                i_res = i\n",
    "                j_res = j\n",
    "                \n",
    "    return (i_res, j_res, result)"
   ]
  },
  {
   "cell_type": "code",
   "execution_count": 49,
   "id": "2408d44d",
   "metadata": {},
   "outputs": [
    {
     "data": {
      "text/plain": [
       "(913, 869, 793397)"
      ]
     },
     "execution_count": 49,
     "metadata": {},
     "output_type": "execute_result"
    }
   ],
   "source": [
    "# Sample test case\n",
    "find_largest_palindrome(800000)"
   ]
  },
  {
   "cell_type": "code",
   "execution_count": 50,
   "id": "d0d9ca58",
   "metadata": {},
   "outputs": [
    {
     "name": "stdout",
     "output_type": "stream",
     "text": [
      "(-1, -1, -1)\n",
      "0.07964150999032427\n",
      "(101, 101, 10201)\n",
      "0.07492874599120114\n",
      "(494, 101, 49894)\n",
      "0.07011312700342387\n",
      "(353, 283, 99899)\n",
      "0.06733237400476355\n",
      "(813, 123, 99999)\n",
      "0.06720114000199828\n",
      "(902, 547, 493394)\n",
      "0.02386976100387983\n",
      "(993, 913, 906609)\n",
      "0.0073195519944420084\n",
      "(993, 913, 906609)\n",
      "0.0066297320008743554\n"
     ]
    }
   ],
   "source": [
    "# Compare execution time for various test cases\n",
    "for n in [0, 10202, 50000, 99999, 100000, 500000, 998001, 999999]:\n",
    "    start_time = time.perf_counter()\n",
    "    print(find_largest_palindrome(n))\n",
    "    end_time = time.perf_counter()\n",
    "    print(end_time-start_time)"
   ]
  },
  {
   "cell_type": "markdown",
   "id": "1a546e9d",
   "metadata": {},
   "source": [
    "Version 2: `int` reversed using modulo and integer division (no casting to `str`)"
   ]
  },
  {
   "cell_type": "code",
   "execution_count": 51,
   "id": "f6b18768",
   "metadata": {},
   "outputs": [],
   "source": [
    "def find_largest_palindrome_all_int(n):\n",
    "    result = -1\n",
    "    i_res = -1\n",
    "    j_res = -1\n",
    "    \n",
    "    for i in range(999, 100, -1): \n",
    "        for j in range(i, 100, -1):\n",
    "            ij = i*j\n",
    "            if ij < result:\n",
    "                break  \n",
    "            if ij > result and ij < n:\n",
    "                temp_ij = ij\n",
    "                reverse_ij = 0\n",
    "                while temp_ij > 0:\n",
    "                    reverse_ij = reverse_ij * 10 + temp_ij % 10\n",
    "                    temp_ij //= 10\n",
    "                if ij == reverse_ij:\n",
    "                    result = ij\n",
    "                    i_res = i\n",
    "                    j_res = j\n",
    "                \n",
    "                \n",
    "    return (i_res, j_res, result)"
   ]
  },
  {
   "cell_type": "code",
   "execution_count": 52,
   "id": "7b7245d9",
   "metadata": {},
   "outputs": [
    {
     "data": {
      "text/plain": [
       "(913, 869, 793397)"
      ]
     },
     "execution_count": 52,
     "metadata": {},
     "output_type": "execute_result"
    }
   ],
   "source": [
    "# Sample test case\n",
    "find_largest_palindrome_all_int(800000)"
   ]
  },
  {
   "cell_type": "code",
   "execution_count": 53,
   "id": "44fa1a58",
   "metadata": {},
   "outputs": [
    {
     "name": "stdout",
     "output_type": "stream",
     "text": [
      "(-1, -1, -1)\n",
      "0.08283594499516767\n",
      "(101, 101, 10201)\n",
      "0.08494917700591031\n",
      "(494, 101, 49894)\n",
      "0.08068629699118901\n",
      "(353, 283, 99899)\n",
      "0.06921170400164556\n",
      "(813, 123, 99999)\n",
      "0.06475963999400847\n",
      "(902, 547, 493394)\n",
      "0.03109922300791368\n",
      "(993, 913, 906609)\n",
      "0.011060178992920555\n",
      "(993, 913, 906609)\n",
      "0.010930206000921316\n"
     ]
    }
   ],
   "source": [
    "# Compare execution time for various test cases\n",
    "for n in [0, 10202, 50000, 99999, 100000, 500000, 998001, 999999]:\n",
    "    start_time = time.perf_counter()\n",
    "    print(find_largest_palindrome_all_int(n))\n",
    "    end_time = time.perf_counter()\n",
    "    print(end_time-start_time)"
   ]
  },
  {
   "cell_type": "markdown",
   "id": "55055d87",
   "metadata": {},
   "source": [
    "Test some edge cases:"
   ]
  },
  {
   "cell_type": "code",
   "execution_count": 54,
   "id": "109a8b43",
   "metadata": {},
   "outputs": [
    {
     "data": {
      "text/plain": [
       "True"
      ]
     },
     "execution_count": 54,
     "metadata": {},
     "output_type": "execute_result"
    }
   ],
   "source": [
    "find_largest_palindrome(-1) == find_largest_palindrome_all_int(-1) == (-1, -1, -1)"
   ]
  },
  {
   "cell_type": "code",
   "execution_count": 55,
   "id": "3ad1466b",
   "metadata": {},
   "outputs": [
    {
     "data": {
      "text/plain": [
       "True"
      ]
     },
     "execution_count": 55,
     "metadata": {},
     "output_type": "execute_result"
    }
   ],
   "source": [
    "find_largest_palindrome(0) == find_largest_palindrome_all_int(0) == (-1, -1, -1)"
   ]
  },
  {
   "cell_type": "code",
   "execution_count": 56,
   "id": "de9bf641",
   "metadata": {},
   "outputs": [
    {
     "data": {
      "text/plain": [
       "True"
      ]
     },
     "execution_count": 56,
     "metadata": {},
     "output_type": "execute_result"
    }
   ],
   "source": [
    "find_largest_palindrome(10201) == find_largest_palindrome_all_int(10201) == (-1, -1, -1)"
   ]
  },
  {
   "cell_type": "code",
   "execution_count": 57,
   "id": "9ac6febd",
   "metadata": {},
   "outputs": [
    {
     "data": {
      "text/plain": [
       "True"
      ]
     },
     "execution_count": 57,
     "metadata": {},
     "output_type": "execute_result"
    }
   ],
   "source": [
    "find_largest_palindrome(10202) == find_largest_palindrome_all_int(10202) == (101, 101, 10201)"
   ]
  },
  {
   "cell_type": "code",
   "execution_count": 58,
   "id": "2c8ad613",
   "metadata": {},
   "outputs": [
    {
     "data": {
      "text/plain": [
       "True"
      ]
     },
     "execution_count": 58,
     "metadata": {},
     "output_type": "execute_result"
    }
   ],
   "source": [
    "find_largest_palindrome(906609) == find_largest_palindrome_all_int(906609) == (962, 924, 888888)"
   ]
  },
  {
   "cell_type": "code",
   "execution_count": 59,
   "id": "d7c5051c",
   "metadata": {},
   "outputs": [
    {
     "data": {
      "text/plain": [
       "True"
      ]
     },
     "execution_count": 59,
     "metadata": {},
     "output_type": "execute_result"
    }
   ],
   "source": [
    "find_largest_palindrome(999999) == find_largest_palindrome_all_int(999999) == (993, 913, 906609)"
   ]
  },
  {
   "cell_type": "code",
   "execution_count": 60,
   "id": "7a54ff90",
   "metadata": {},
   "outputs": [
    {
     "data": {
      "text/plain": [
       "True"
      ]
     },
     "execution_count": 60,
     "metadata": {},
     "output_type": "execute_result"
    }
   ],
   "source": [
    "find_largest_palindrome(999999999) == find_largest_palindrome_all_int(999999999) == (993, 913, 906609)"
   ]
  },
  {
   "cell_type": "markdown",
   "id": "560c80dc",
   "metadata": {},
   "source": [
    "Check if there's a difference in execution time:"
   ]
  },
  {
   "cell_type": "code",
   "execution_count": 61,
   "id": "b65216ad",
   "metadata": {},
   "outputs": [],
   "source": [
    "import random"
   ]
  },
  {
   "cell_type": "code",
   "execution_count": 62,
   "id": "e9f353cc",
   "metadata": {},
   "outputs": [
    {
     "name": "stdout",
     "output_type": "stream",
     "text": [
      "[174375, 399589, 887371, 923255, 961264, 96520, 334575, 90884, 314915, 917918]\n"
     ]
    }
   ],
   "source": [
    "# generate 10000 random numbers which will be test cases\n",
    "\n",
    "test_cases = []\n",
    "for i in range(10000):\n",
    "    test_cases.append(random.randint(10202, 999999))\n",
    "    \n",
    "print(test_cases[:10])  # print out a sample"
   ]
  },
  {
   "cell_type": "code",
   "execution_count": 63,
   "id": "fc0d9927",
   "metadata": {},
   "outputs": [
    {
     "name": "stdout",
     "output_type": "stream",
     "text": [
      "288.58268444699934\n"
     ]
    }
   ],
   "source": [
    "start_time = time.perf_counter()\n",
    "\n",
    "for t in test_cases:\n",
    "    find_largest_palindrome(t)\n",
    "\n",
    "end_time = time.perf_counter()\n",
    "print(end_time-start_time)"
   ]
  },
  {
   "cell_type": "code",
   "execution_count": 64,
   "id": "cd1be615",
   "metadata": {},
   "outputs": [
    {
     "name": "stdout",
     "output_type": "stream",
     "text": [
      "329.72161875100574\n"
     ]
    }
   ],
   "source": [
    "start_time = time.perf_counter()\n",
    "\n",
    "for t in test_cases:\n",
    "    find_largest_palindrome_all_int(t)\n",
    "\n",
    "end_time = time.perf_counter()\n",
    "print(end_time-start_time)"
   ]
  }
 ],
 "metadata": {
  "kernelspec": {
   "display_name": "Python 3 (ipykernel)",
   "language": "python",
   "name": "python3"
  },
  "language_info": {
   "codemirror_mode": {
    "name": "ipython",
    "version": 3
   },
   "file_extension": ".py",
   "mimetype": "text/x-python",
   "name": "python",
   "nbconvert_exporter": "python",
   "pygments_lexer": "ipython3",
   "version": "3.8.16"
  }
 },
 "nbformat": 4,
 "nbformat_minor": 5
}
