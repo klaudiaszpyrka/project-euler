{
 "cells": [
  {
   "cell_type": "markdown",
   "id": "97d5c126",
   "metadata": {},
   "source": [
    "https://www.hackerrank.com/contests/projecteuler/challenges/euler003/problem\n",
    "    \n",
    "or\n",
    "\n",
    "https://projecteuler.net/problem=3"
   ]
  },
  {
   "cell_type": "code",
   "execution_count": 5,
   "id": "2579e764",
   "metadata": {},
   "outputs": [],
   "source": [
    "import math"
   ]
  },
  {
   "cell_type": "code",
   "execution_count": 6,
   "id": "5557d2b9",
   "metadata": {},
   "outputs": [],
   "source": [
    "def find_largest_prime_factor(number):\n",
    "    \n",
    "    # 2 is the first prime number that exists\n",
    "    if number < 2:\n",
    "        print(\"Incorrect input\")\n",
    "        \n",
    "    elif number == 2:\n",
    "        return 2\n",
    "    \n",
    "    # keep dividing by 2 until number is odd\n",
    "    elif number % 2 == 0:\n",
    "            return find_largest_prime_factor(number//2)\n",
    "        \n",
    "    # if the number is odd, start with 3 and use step = 2 (to omit even numbers)\n",
    "    # it is sufficient to search for a divisor not greater than sqrt(number)\n",
    "    # source: https://en.wikipedia.org/wiki/Factorization#Integers  \n",
    "    else:\n",
    "        for i in range (3, math.ceil(math.sqrt(number+1)), 2):\n",
    "            if number % i == 0:\n",
    "                if number // i == 1:\n",
    "                    return i                    \n",
    "                else:\n",
    "                    return find_largest_prime_factor(number//i)\n",
    "    \n",
    "    # if divisor was not found above, the largest divisor is the number itself     \n",
    "        else:\n",
    "            return number"
   ]
  },
  {
   "cell_type": "code",
   "execution_count": 7,
   "id": "064e1f2c",
   "metadata": {},
   "outputs": [],
   "source": [
    "test_cases = [-1, 0, 1, 2, 3, 10, 15, 600851475143]"
   ]
  },
  {
   "cell_type": "code",
   "execution_count": 8,
   "id": "cb01de2c",
   "metadata": {},
   "outputs": [
    {
     "name": "stdout",
     "output_type": "stream",
     "text": [
      "Incorrect input\n",
      "None\n",
      "Incorrect input\n",
      "None\n",
      "Incorrect input\n",
      "None\n",
      "2\n",
      "3\n",
      "5\n",
      "5\n",
      "6857\n"
     ]
    }
   ],
   "source": [
    "for test_case in test_cases:\n",
    "    print(find_largest_prime_factor(test_case))"
   ]
  }
 ],
 "metadata": {
  "kernelspec": {
   "display_name": "Python 3 (ipykernel)",
   "language": "python",
   "name": "python3"
  },
  "language_info": {
   "codemirror_mode": {
    "name": "ipython",
    "version": 3
   },
   "file_extension": ".py",
   "mimetype": "text/x-python",
   "name": "python",
   "nbconvert_exporter": "python",
   "pygments_lexer": "ipython3",
   "version": "3.8.16"
  }
 },
 "nbformat": 4,
 "nbformat_minor": 5
}
