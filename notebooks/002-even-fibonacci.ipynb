{
 "cells": [
  {
   "cell_type": "markdown",
   "id": "efce9962",
   "metadata": {},
   "source": [
    "https://www.hackerrank.com/contests/projecteuler/challenges/euler002/problem\n",
    "\n",
    "or \n",
    "\n",
    "https://projecteuler.net/problem=2"
   ]
  },
  {
   "cell_type": "code",
   "execution_count": 1,
   "id": "1e2bfd0d",
   "metadata": {},
   "outputs": [],
   "source": [
    "def even_fibonacci_sum(n):\n",
    "    fibonacci = [1, 2]\n",
    "    i = 0\n",
    "\n",
    "    while True:\n",
    "        i = fibonacci[-1] + fibonacci[-2]\n",
    "        if i > n:\n",
    "            break\n",
    "        else:\n",
    "            fibonacci.append(i)\n",
    "\n",
    "    return sum([i for i in fibonacci if i % 2 == 0])"
   ]
  },
  {
   "cell_type": "code",
   "execution_count": 2,
   "id": "c8dd3e2e",
   "metadata": {},
   "outputs": [],
   "source": [
    "test_cases = [10, 100, 4000000]"
   ]
  },
  {
   "cell_type": "code",
   "execution_count": 3,
   "id": "d97cc5dd",
   "metadata": {},
   "outputs": [
    {
     "name": "stdout",
     "output_type": "stream",
     "text": [
      "10\n",
      "44\n",
      "4613732\n"
     ]
    }
   ],
   "source": [
    "for test_case in test_cases:\n",
    "    print(even_fibonacci_sum(test_case))"
   ]
  }
 ],
 "metadata": {
  "kernelspec": {
   "display_name": "Python 3 (ipykernel)",
   "language": "python",
   "name": "python3"
  },
  "language_info": {
   "codemirror_mode": {
    "name": "ipython",
    "version": 3
   },
   "file_extension": ".py",
   "mimetype": "text/x-python",
   "name": "python",
   "nbconvert_exporter": "python",
   "pygments_lexer": "ipython3",
   "version": "3.8.16"
  }
 },
 "nbformat": 4,
 "nbformat_minor": 5
}
