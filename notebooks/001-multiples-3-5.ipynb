{
 "cells": [
  {
   "cell_type": "markdown",
   "id": "58614149",
   "metadata": {},
   "source": [
    "https://www.hackerrank.com/contests/projecteuler/challenges/euler001/problem\n",
    "\n",
    "or\n",
    "\n",
    "https://projecteuler.net/problem=1"
   ]
  },
  {
   "cell_type": "code",
   "execution_count": 1,
   "id": "71c99603",
   "metadata": {},
   "outputs": [],
   "source": [
    "def find_max_divisible(number, divider):\n",
    "    max_divisible = 1\n",
    "\n",
    "    for i in range(number - 1, 0, -1):\n",
    "        if i % divider == 0:\n",
    "            max_divisible = i\n",
    "            break\n",
    "        else:\n",
    "            i -= 1\n",
    "\n",
    "    return max_divisible\n",
    "\n",
    "\n",
    "def multiples_sum(n):\n",
    "    max_3 = find_max_divisible(n, 3)\n",
    "    max_5 = find_max_divisible(n, 5)\n",
    "    max_15 = find_max_divisible(n, 15)\n",
    "\n",
    "    ### Creating lists (below) works only for small numbers, otherwise takes up too much resources.\n",
    "    # sum_3_list = [3 * i for i in range(1, int(max_3/3) + 1)]\n",
    "    # sum_5_list = [5 * i for i in range(1, int(max_5/5) + 1)]\n",
    "    # sum_15_list = [15 * i for i in range(1, int(max_15/15) + 1)]\n",
    "    # result = sum_3_list + sum_5_list - sum_15_list\n",
    "\n",
    "    ### Calculation based on common arithmetic sequence formula (below) results in float rounding errors for big numbers.\n",
    "    # sum_3 = (1 + max_3/3) / 2 * max_3\n",
    "    # sum_5 = (1 + max_5/5) / 2 * max_5\n",
    "    # sum_15 = (1 + max_15/15) / 2 * max_15\n",
    "    # result = int(sum_3 + sum_5 - sum_15)\n",
    "\n",
    "    ### We have to manipulate the arithmetic sequence formula to benefit from integer division.\n",
    "    ### This ensures there are no rounding errors.\n",
    "    sum_3 = (3 * max_3 + max_3 ** 2) // (2 * 3)\n",
    "    sum_5 = (5 * max_5 + max_5 ** 2) // (2 * 5)\n",
    "    sum_15 = (15 * max_15 + max_15 ** 2) // (2 * 15)\n",
    "\n",
    "    result = int(sum_3 + sum_5 - sum_15)\n",
    "    return result"
   ]
  },
  {
   "cell_type": "code",
   "execution_count": 3,
   "id": "3a90d12f",
   "metadata": {},
   "outputs": [],
   "source": [
    "test_cases = [1, 1000, 1000000000]"
   ]
  },
  {
   "cell_type": "code",
   "execution_count": 5,
   "id": "852b8350",
   "metadata": {},
   "outputs": [
    {
     "name": "stdout",
     "output_type": "stream",
     "text": [
      "0\n",
      "233168\n",
      "233333333166666668\n"
     ]
    }
   ],
   "source": [
    "for t in test_cases:\n",
    "    print(multiples_sum(t))"
   ]
  }
 ],
 "metadata": {
  "kernelspec": {
   "display_name": "Python 3 (ipykernel)",
   "language": "python",
   "name": "python3"
  },
  "language_info": {
   "codemirror_mode": {
    "name": "ipython",
    "version": 3
   },
   "file_extension": ".py",
   "mimetype": "text/x-python",
   "name": "python",
   "nbconvert_exporter": "python",
   "pygments_lexer": "ipython3",
   "version": "3.8.16"
  }
 },
 "nbformat": 4,
 "nbformat_minor": 5
}
